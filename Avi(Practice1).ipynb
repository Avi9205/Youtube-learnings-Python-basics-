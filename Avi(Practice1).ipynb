{
 "cells": [
  {
   "cell_type": "markdown",
   "id": "4a7c9ad6",
   "metadata": {},
   "source": [
    "## Python Control Flows"
   ]
  },
  {
   "cell_type": "code",
   "execution_count": 14,
   "id": "560b46fe",
   "metadata": {},
   "outputs": [
    {
     "name": "stdout",
     "output_type": "stream",
     "text": [
      "Enter the nameAvinash\n",
      "Avinash\n"
     ]
    }
   ],
   "source": [
    "# if statement\n",
    "\n",
    "val = input(\"Enter the name\")\n",
    "value = str(val)\n",
    "print(value)"
   ]
  },
  {
   "cell_type": "code",
   "execution_count": 15,
   "id": "07cfaf07",
   "metadata": {
    "scrolled": true
   },
   "outputs": [
    {
     "name": "stdout",
     "output_type": "stream",
     "text": [
      "Enter the number45\n",
      "45.0\n",
      "Number is greater than 25\n"
     ]
    }
   ],
   "source": [
    "val = input(\"Enter the number\")\n",
    "value = float(val)\n",
    "print(value)\n",
    "\n",
    "if(value>25):\n",
    "    print(\"Number is greater than 25\")"
   ]
  },
  {
   "cell_type": "code",
   "execution_count": 16,
   "id": "357b7046",
   "metadata": {},
   "outputs": [
    {
     "data": {
      "text/plain": [
       "0"
      ]
     },
     "execution_count": 16,
     "metadata": {},
     "output_type": "execute_result"
    }
   ],
   "source": [
    "10%2"
   ]
  },
  {
   "cell_type": "code",
   "execution_count": 20,
   "id": "c70be9f1",
   "metadata": {},
   "outputs": [
    {
     "name": "stdout",
     "output_type": "stream",
     "text": [
      "Enter the number5\n",
      "5.0\n",
      "Number is odd Number\n"
     ]
    }
   ],
   "source": [
    "val = input(\"Enter the number\")\n",
    "value = float(val)\n",
    "print(value)\n",
    "\n",
    "if(value%2==0):\n",
    "    print(\"Number is Even number\")\n",
    "    \n",
    "else:\n",
    "        print(\"Number is odd Number\")"
   ]
  },
  {
   "cell_type": "code",
   "execution_count": 21,
   "id": "6e577483",
   "metadata": {},
   "outputs": [
    {
     "name": "stdout",
     "output_type": "stream",
     "text": [
      "Enter the age25\n",
      "your registration has been completed\n"
     ]
    }
   ],
   "source": [
    "## Age form\n",
    "\n",
    "age = int(input(\"Enter the age\"))\n",
    "\n",
    "if(age<18):\n",
    "    print(\"You are not eligible\")\n",
    "else:\n",
    "    print(\"your registration has been completed\")"
   ]
  },
  {
   "cell_type": "code",
   "execution_count": 2,
   "id": "7fda7984",
   "metadata": {},
   "outputs": [
    {
     "name": "stdout",
     "output_type": "stream",
     "text": [
      "Enter the age65\n",
      "you have to take life break\n"
     ]
    }
   ],
   "source": [
    "## Age form\n",
    "\n",
    "age = int(input(\"Enter the age\"))\n",
    "\n",
    "if(13<= age <18):\n",
    "    print(\"You are Minor\")\n",
    "    \n",
    "elif(18<= age <35):\n",
    "    print(\"You are young blood\")\n",
    "    \n",
    "elif(35<= age <70):\n",
    "\n",
    "    print(\"you have to take life break\")\n",
    "else:\n",
    "    print(\"Not Valid\")"
   ]
  },
  {
   "cell_type": "markdown",
   "id": "a4222a8c",
   "metadata": {},
   "source": [
    " "
   ]
  },
  {
   "cell_type": "code",
   "execution_count": 9,
   "id": "1aa0e4c4",
   "metadata": {},
   "outputs": [
    {
     "name": "stdout",
     "output_type": "stream",
     "text": [
      "Enter the age: 10\n",
      "Not valid\n",
      "You are in secondary school\n"
     ]
    }
   ],
   "source": [
    "## Nested Ifelse\n",
    "\n",
    "age = int(input(\"Enter the age: \"))\n",
    "\n",
    "if 13 <= age < 18:\n",
    "    print(\"You are a minor\")\n",
    "elif age < 10:\n",
    "    print(\"You are in primary school\")\n",
    "else:\n",
    "    if 18 <= age < 35:\n",
    "        print(\"You are young blood\")\n",
    "    elif 35 <= age < 70:\n",
    "        print(\"You have to take a life break\")\n",
    "    elif age >= 70:\n",
    "        print(\"You are a senior citizen\")\n",
    "    else:\n",
    "        print(\"Not valid\")\n",
    "        # You can add more error handling here if needed\n",
    "\n",
    "    if age >= 10 and age < 18:\n",
    "        print(\"You are in secondary school\")\n",
    "    elif age >= 18:\n",
    "        print(\"You are in college or beyond\")"
   ]
  },
  {
   "cell_type": "code",
   "execution_count": 10,
   "id": "3f0562ef",
   "metadata": {},
   "outputs": [],
   "source": [
    "##loops statements\n",
    "## for loop, while loop"
   ]
  },
  {
   "cell_type": "code",
   "execution_count": 29,
   "id": "688116b1",
   "metadata": {},
   "outputs": [],
   "source": [
    "lst = [1,2,3,4,5,6]"
   ]
  },
  {
   "cell_type": "code",
   "execution_count": 19,
   "id": "495d23e3",
   "metadata": {},
   "outputs": [
    {
     "name": "stdout",
     "output_type": "stream",
     "text": [
      "0\n",
      "1\n",
      "1\n",
      "2\n",
      "2\n",
      "3\n"
     ]
    }
   ],
   "source": [
    "for i in lst:\n",
    "    print(int(i/2))"
   ]
  },
  {
   "cell_type": "code",
   "execution_count": 37,
   "id": "3fedbe02",
   "metadata": {},
   "outputs": [
    {
     "name": "stdout",
     "output_type": "stream",
     "text": [
      "21\n"
     ]
    }
   ],
   "source": [
    "sum1 = 0\n",
    "for i in lst:\n",
    "    sum1 = sum1+i\n",
    "    \n",
    "print(sum1)"
   ]
  },
  {
   "cell_type": "code",
   "execution_count": 38,
   "id": "c1e0f761",
   "metadata": {},
   "outputs": [],
   "source": [
    "## find the summ numbers odd and even numbers"
   ]
  },
  {
   "cell_type": "code",
   "execution_count": 39,
   "id": "7cd9bd61",
   "metadata": {},
   "outputs": [],
   "source": [
    "lst = [1,2,3,4,5,6]"
   ]
  },
  {
   "cell_type": "code",
   "execution_count": 42,
   "id": "3b03a090",
   "metadata": {},
   "outputs": [
    {
     "name": "stdout",
     "output_type": "stream",
     "text": [
      "Even sum is 12\n",
      "Odd sum is 9\n"
     ]
    }
   ],
   "source": [
    "even_sum = 0\n",
    "odd_sum = 0\n",
    "\n",
    "for i in lst:\n",
    "    if(i%2==0):\n",
    "        even_sum = even_sum + i\n",
    "    else:\n",
    "        odd_sum = odd_sum + i\n",
    "        \n",
    "print(\"Even sum is {}\".format(even_sum))\n",
    "print(\"Odd sum is {}\".format(odd_sum))"
   ]
  },
  {
   "cell_type": "code",
   "execution_count": 43,
   "id": "cb0a4886",
   "metadata": {},
   "outputs": [],
   "source": [
    "##while condition"
   ]
  },
  {
   "cell_type": "code",
   "execution_count": 19,
   "id": "05537444",
   "metadata": {},
   "outputs": [
    {
     "name": "stdout",
     "output_type": "stream",
     "text": [
      "Even sum is 110\n",
      "Odd sum is 100\n"
     ]
    }
   ],
   "source": [
    "i = 0\n",
    "even_sum = 0\n",
    "odd_sum = 0\n",
    "\n",
    "while(i <= 20):\n",
    "    if(i % 2 == 0):\n",
    "        even_sum = even_sum + i\n",
    "    else:\n",
    "        odd_sum = odd_sum + i\n",
    "    i = i + 1\n",
    "\n",
    "print(\"Even sum is {}\".format(even_sum))\n",
    "print(\"Odd sum is {}\".format(odd_sum))"
   ]
  },
  {
   "cell_type": "code",
   "execution_count": 20,
   "id": "b4b7424f",
   "metadata": {},
   "outputs": [],
   "source": [
    "##break"
   ]
  },
  {
   "cell_type": "code",
   "execution_count": 1,
   "id": "440c9f0a",
   "metadata": {},
   "outputs": [
    {
     "name": "stdout",
     "output_type": "stream",
     "text": [
      "1\n",
      "2\n",
      "3\n",
      "4\n",
      "5\n"
     ]
    }
   ],
   "source": [
    "x=1\n",
    "while(x<7):\n",
    "    print(x)\n",
    "    if x == 5:\n",
    "        break\n",
    "        \n",
    "    x = x+1"
   ]
  },
  {
   "cell_type": "code",
   "execution_count": 2,
   "id": "33af10e8",
   "metadata": {},
   "outputs": [],
   "source": [
    "##continue"
   ]
  },
  {
   "cell_type": "code",
   "execution_count": 7,
   "id": "ee24df74",
   "metadata": {},
   "outputs": [
    {
     "name": "stdout",
     "output_type": "stream",
     "text": [
      "1\n",
      "2\n",
      "3\n",
      "5\n",
      "6\n",
      "7\n"
     ]
    }
   ],
   "source": [
    "x=0\n",
    "while(x<7):\n",
    "    x = x+1\n",
    "    if x == 4:\n",
    "        continue\n",
    "        ##Continue use for skipping that part if that will become true\n",
    "    print(x)"
   ]
  },
  {
   "cell_type": "markdown",
   "id": "cf0ce7bc",
   "metadata": {},
   "source": [
    "# Python operators"
   ]
  },
  {
   "cell_type": "markdown",
   "id": "e665b83f",
   "metadata": {},
   "source": [
    "- Logical operator\n",
    "- Equality\n",
    "- comparison\n",
    "- Arithmetic"
   ]
  },
  {
   "cell_type": "code",
   "execution_count": 19,
   "id": "53c19b41",
   "metadata": {},
   "outputs": [
    {
     "name": "stdout",
     "output_type": "stream",
     "text": [
      "Enter your age25\n",
      "You are Young\n"
     ]
    }
   ],
   "source": [
    "age = (int(input(\"Enter your age\")))\n",
    "if 18<= age <=35:\n",
    "          print(\"You are Young\")"
   ]
  },
  {
   "cell_type": "code",
   "execution_count": 4,
   "id": "0bac0a4c",
   "metadata": {},
   "outputs": [
    {
     "name": "stdout",
     "output_type": "stream",
     "text": [
      "Enter your age25\n",
      "Mid Age\n"
     ]
    }
   ],
   "source": [
    "age = (int(input(\"Enter your age\")))\n",
    "if age >=18 and age <=35:\n",
    "          print(\"Mid Age\")"
   ]
  },
  {
   "cell_type": "code",
   "execution_count": 9,
   "id": "8ecbaa9f",
   "metadata": {},
   "outputs": [
    {
     "name": "stdout",
     "output_type": "stream",
     "text": [
      "Enter your age25\n",
      "Not Eligible\n"
     ]
    }
   ],
   "source": [
    "age = (int(input(\"Enter your age\")))\n",
    "if age <18 or age >35:\n",
    "          print(\"You are eligible\")\n",
    "else:\n",
    "          print(\"Not Eligible\")"
   ]
  },
  {
   "cell_type": "markdown",
   "id": "6c0774a3",
   "metadata": {},
   "source": [
    "#### Equality operator"
   ]
  },
  {
   "cell_type": "code",
   "execution_count": 11,
   "id": "ca1951b4",
   "metadata": {},
   "outputs": [
    {
     "data": {
      "text/plain": [
       "True"
      ]
     },
     "execution_count": 11,
     "metadata": {},
     "output_type": "execute_result"
    }
   ],
   "source": [
    "a = \"Avinash\"\n",
    "b = \"Avinash\"\n",
    "\n",
    "a==b"
   ]
  },
  {
   "cell_type": "code",
   "execution_count": 12,
   "id": "52aa385e",
   "metadata": {},
   "outputs": [
    {
     "name": "stdout",
     "output_type": "stream",
     "text": [
      "Enter your age18\n",
      "You are adult\n"
     ]
    }
   ],
   "source": [
    "age = (int(input(\"Enter your age\")))\n",
    "if age == 18:\n",
    "          print(\"You are adult\")"
   ]
  },
  {
   "cell_type": "code",
   "execution_count": 1,
   "id": "4ce53950",
   "metadata": {},
   "outputs": [
    {
     "name": "stdout",
     "output_type": "stream",
     "text": [
      "Enter your marks20\n",
      "You are fail\n"
     ]
    }
   ],
   "source": [
    "marks = float(input(\"Enter your marks\"))\n",
    "if marks <23:\n",
    "    print(\"You are fail\")\n",
    "elif 23 <= marks <= 30:\n",
    "    print(\"Grade C\")\n",
    "elif 30<= marks <=60:\n",
    "    print(\"Grade B\")\n",
    "elif 60<= marks <=100:\n",
    "    print(\"Grade A\")\n",
    "else:\n",
    "    print(\"Invalid input! Enter valid mark\")"
   ]
  },
  {
   "cell_type": "code",
   "execution_count": 3,
   "id": "a30262f4",
   "metadata": {},
   "outputs": [
    {
     "name": "stdout",
     "output_type": "stream",
     "text": [
      "Enter your marks: 20\n",
      "You have failed!\n"
     ]
    }
   ],
   "source": [
    "marks = input(\"Enter your marks: \")\n",
    "\n",
    "if not marks.isdigit():\n",
    "    print(\"Invalid input! Please enter a valid mark.\")\n",
    "else:\n",
    "    marks = float(marks)\n",
    "    if marks < 23:\n",
    "        print(\"You have failed!\")\n",
    "    elif 23 <= marks <= 30:\n",
    "        print(\"Grade C\")\n",
    "    elif 30 <= marks <= 60:\n",
    "        print(\"Grade B\")\n",
    "    elif 60 <= marks <= 100:\n",
    "        print(\"Grade A\")\n",
    "    else:\n",
    "        print(\"Invalid input! Please enter a valid mark.\")\n"
   ]
  },
  {
   "cell_type": "code",
   "execution_count": 4,
   "id": "483d9ae6",
   "metadata": {},
   "outputs": [
    {
     "data": {
      "text/plain": [
       "9.6"
      ]
     },
     "execution_count": 4,
     "metadata": {},
     "output_type": "execute_result"
    }
   ],
   "source": [
    "48/5"
   ]
  },
  {
   "cell_type": "code",
   "execution_count": 2,
   "id": "86d7a39f",
   "metadata": {},
   "outputs": [
    {
     "data": {
      "text/plain": [
       "3"
      ]
     },
     "execution_count": 2,
     "metadata": {},
     "output_type": "execute_result"
    }
   ],
   "source": [
    "48%5"
   ]
  },
  {
   "cell_type": "markdown",
   "id": "99fd4e8d",
   "metadata": {},
   "source": [
    "## Python number methods"
   ]
  },
  {
   "cell_type": "markdown",
   "id": "eef7bc2c",
   "metadata": {},
   "source": [
    "### Abs()\n",
    "abs(x) will return the absolute value of a number x which we pass in argument. The number x can be integer,float,complex. "
   ]
  },
  {
   "cell_type": "code",
   "execution_count": 5,
   "id": "91873c56",
   "metadata": {},
   "outputs": [
    {
     "data": {
      "text/plain": [
       "10"
      ]
     },
     "execution_count": 5,
     "metadata": {},
     "output_type": "execute_result"
    }
   ],
   "source": [
    "abs(10)"
   ]
  },
  {
   "cell_type": "code",
   "execution_count": 6,
   "id": "a9b182a6",
   "metadata": {},
   "outputs": [
    {
     "data": {
      "text/plain": [
       "65"
      ]
     },
     "execution_count": 6,
     "metadata": {},
     "output_type": "execute_result"
    }
   ],
   "source": [
    "abs(-65)"
   ]
  },
  {
   "cell_type": "code",
   "execution_count": 7,
   "id": "222ff047",
   "metadata": {},
   "outputs": [
    {
     "data": {
      "text/plain": [
       "0.55"
      ]
     },
     "execution_count": 7,
     "metadata": {},
     "output_type": "execute_result"
    }
   ],
   "source": [
    "abs(0.55)"
   ]
  },
  {
   "cell_type": "code",
   "execution_count": 8,
   "id": "a174cdcf",
   "metadata": {},
   "outputs": [
    {
     "data": {
      "text/plain": [
       "5.5"
      ]
     },
     "execution_count": 8,
     "metadata": {},
     "output_type": "execute_result"
    }
   ],
   "source": [
    "abs(-5.50)"
   ]
  },
  {
   "cell_type": "markdown",
   "id": "495fc104",
   "metadata": {},
   "source": [
    "### Ceil()\n",
    "ceil(x) will return the ceiling value of a number x which we pass in argumnet. The ceiling value of number x will be the smallest integer not less than x.\n",
    "\n",
    "##### Note:- This function will not be accesible directly using ceil() method. Math module will be required to access this method."
   ]
  },
  {
   "cell_type": "code",
   "execution_count": 9,
   "id": "aa297721",
   "metadata": {},
   "outputs": [],
   "source": [
    "import math"
   ]
  },
  {
   "cell_type": "code",
   "execution_count": 10,
   "id": "4113ca2c",
   "metadata": {},
   "outputs": [
    {
     "data": {
      "text/plain": [
       "44"
      ]
     },
     "execution_count": 10,
     "metadata": {},
     "output_type": "execute_result"
    }
   ],
   "source": [
    "math.ceil(43.75)"
   ]
  },
  {
   "cell_type": "code",
   "execution_count": 12,
   "id": "97e9949a",
   "metadata": {},
   "outputs": [
    {
     "data": {
      "text/plain": [
       "44"
      ]
     },
     "execution_count": 12,
     "metadata": {},
     "output_type": "execute_result"
    }
   ],
   "source": [
    "math.ceil(43.45)\n",
    "##This method return next number of a value"
   ]
  },
  {
   "cell_type": "code",
   "execution_count": 13,
   "id": "b409ba67",
   "metadata": {},
   "outputs": [
    {
     "data": {
      "text/plain": [
       "-43"
      ]
     },
     "execution_count": 13,
     "metadata": {},
     "output_type": "execute_result"
    }
   ],
   "source": [
    "math.ceil(-43.45)"
   ]
  },
  {
   "cell_type": "markdown",
   "id": "23610e2b",
   "metadata": {},
   "source": [
    "### Floor "
   ]
  },
  {
   "cell_type": "code",
   "execution_count": 14,
   "id": "9d5b6f23",
   "metadata": {},
   "outputs": [
    {
     "data": {
      "text/plain": [
       "43"
      ]
     },
     "execution_count": 14,
     "metadata": {},
     "output_type": "execute_result"
    }
   ],
   "source": [
    "math.floor(43.25)"
   ]
  },
  {
   "cell_type": "code",
   "execution_count": 15,
   "id": "c3aa4f93",
   "metadata": {},
   "outputs": [
    {
     "data": {
      "text/plain": [
       "-44"
      ]
     },
     "execution_count": 15,
     "metadata": {},
     "output_type": "execute_result"
    }
   ],
   "source": [
    "math.floor(-43.45)"
   ]
  },
  {
   "cell_type": "markdown",
   "id": "4579b126",
   "metadata": {},
   "source": [
    "### Exp()\n",
    "***exp(x)*** will return the exponential value of a number x which we pass in argument.\n",
    "* Note:- This function will not be accesible directly using exp() method. Math module will be required to access this method."
   ]
  },
  {
   "cell_type": "code",
   "execution_count": 16,
   "id": "ff29afd0",
   "metadata": {},
   "outputs": [
    {
     "data": {
      "text/plain": [
       "22026.465794806718"
      ]
     },
     "execution_count": 16,
     "metadata": {},
     "output_type": "execute_result"
    }
   ],
   "source": [
    "math.exp(10)"
   ]
  },
  {
   "cell_type": "code",
   "execution_count": 17,
   "id": "2608e1d2",
   "metadata": {},
   "outputs": [
    {
     "data": {
      "text/plain": [
       "0.0009118819655545162"
      ]
     },
     "execution_count": 17,
     "metadata": {},
     "output_type": "execute_result"
    }
   ],
   "source": [
    "math.exp(-7)"
   ]
  },
  {
   "cell_type": "markdown",
   "id": "7cefd612",
   "metadata": {},
   "source": [
    "## fabs()"
   ]
  },
  {
   "cell_type": "code",
   "execution_count": 18,
   "id": "2d17951a",
   "metadata": {},
   "outputs": [
    {
     "data": {
      "text/plain": [
       "10.5"
      ]
     },
     "execution_count": 18,
     "metadata": {},
     "output_type": "execute_result"
    }
   ],
   "source": [
    "math.fabs(10.5)"
   ]
  },
  {
   "cell_type": "code",
   "execution_count": 19,
   "id": "66e4e7c6",
   "metadata": {},
   "outputs": [
    {
     "data": {
      "text/plain": [
       "10.0"
      ]
     },
     "execution_count": 19,
     "metadata": {},
     "output_type": "execute_result"
    }
   ],
   "source": [
    "math.fabs(-10)"
   ]
  },
  {
   "cell_type": "markdown",
   "id": "40c3570d",
   "metadata": {},
   "source": [
    "## Log()"
   ]
  },
  {
   "cell_type": "code",
   "execution_count": 20,
   "id": "00e76111",
   "metadata": {},
   "outputs": [
    {
     "data": {
      "text/plain": [
       "2.995732273553991"
      ]
     },
     "execution_count": 20,
     "metadata": {},
     "output_type": "execute_result"
    }
   ],
   "source": [
    "math.log(20)"
   ]
  },
  {
   "cell_type": "code",
   "execution_count": 21,
   "id": "6887ea89",
   "metadata": {},
   "outputs": [
    {
     "data": {
      "text/plain": [
       "4.180522258463153"
      ]
     },
     "execution_count": 21,
     "metadata": {},
     "output_type": "execute_result"
    }
   ],
   "source": [
    "math.log(65.4)"
   ]
  },
  {
   "cell_type": "code",
   "execution_count": 23,
   "id": "81b41449",
   "metadata": {},
   "outputs": [
    {
     "data": {
      "text/plain": [
       "1.6020599913279623"
      ]
     },
     "execution_count": 23,
     "metadata": {},
     "output_type": "execute_result"
    }
   ],
   "source": [
    "math.log10(40)"
   ]
  },
  {
   "cell_type": "markdown",
   "id": "8b986263",
   "metadata": {},
   "source": [
    "## Max()"
   ]
  },
  {
   "cell_type": "code",
   "execution_count": 24,
   "id": "079b0e1e",
   "metadata": {},
   "outputs": [
    {
     "data": {
      "text/plain": [
       "100"
      ]
     },
     "execution_count": 24,
     "metadata": {},
     "output_type": "execute_result"
    }
   ],
   "source": [
    "max(10,-15,56,100)"
   ]
  },
  {
   "cell_type": "markdown",
   "id": "1eb834fa",
   "metadata": {},
   "source": [
    "## Min()"
   ]
  },
  {
   "cell_type": "code",
   "execution_count": 25,
   "id": "f17d51bf",
   "metadata": {},
   "outputs": [
    {
     "data": {
      "text/plain": [
       "-100"
      ]
     },
     "execution_count": 25,
     "metadata": {},
     "output_type": "execute_result"
    }
   ],
   "source": [
    "min(-1,-100,50,1)"
   ]
  },
  {
   "cell_type": "markdown",
   "id": "5c9de77d",
   "metadata": {},
   "source": [
    "## Pow()"
   ]
  },
  {
   "cell_type": "code",
   "execution_count": 29,
   "id": "3a8d7ca7",
   "metadata": {},
   "outputs": [
    {
     "data": {
      "text/plain": [
       "4"
      ]
     },
     "execution_count": 29,
     "metadata": {},
     "output_type": "execute_result"
    }
   ],
   "source": [
    "import math\n",
    "int(math.pow(2,2))"
   ]
  },
  {
   "cell_type": "code",
   "execution_count": 31,
   "id": "06094a11",
   "metadata": {},
   "outputs": [
    {
     "data": {
      "text/plain": [
       "-8"
      ]
     },
     "execution_count": 31,
     "metadata": {},
     "output_type": "execute_result"
    }
   ],
   "source": [
    "import math\n",
    "int(math.pow(-2,3))"
   ]
  },
  {
   "cell_type": "markdown",
   "id": "dd503d2d",
   "metadata": {},
   "source": [
    "## Sqrt()"
   ]
  },
  {
   "cell_type": "code",
   "execution_count": 33,
   "id": "75bdd4bf",
   "metadata": {},
   "outputs": [
    {
     "data": {
      "text/plain": [
       "3"
      ]
     },
     "execution_count": 33,
     "metadata": {},
     "output_type": "execute_result"
    }
   ],
   "source": [
    "int(math.sqrt(9))"
   ]
  },
  {
   "cell_type": "code",
   "execution_count": 35,
   "id": "8618aac8",
   "metadata": {},
   "outputs": [
    {
     "ename": "ValueError",
     "evalue": "math domain error",
     "output_type": "error",
     "traceback": [
      "\u001b[1;31m---------------------------------------------------------------------------\u001b[0m",
      "\u001b[1;31mValueError\u001b[0m                                Traceback (most recent call last)",
      "\u001b[1;32m~\\AppData\\Local\\Temp\\ipykernel_11032\\2147219178.py\u001b[0m in \u001b[0;36m<module>\u001b[1;34m\u001b[0m\n\u001b[0;32m      1\u001b[0m \u001b[1;31m## you cant  use neg number\u001b[0m\u001b[1;33m\u001b[0m\u001b[1;33m\u001b[0m\u001b[0m\n\u001b[1;32m----> 2\u001b[1;33m \u001b[0mint\u001b[0m\u001b[1;33m(\u001b[0m\u001b[0mmath\u001b[0m\u001b[1;33m.\u001b[0m\u001b[0msqrt\u001b[0m\u001b[1;33m(\u001b[0m\u001b[1;33m-\u001b[0m\u001b[1;36m9\u001b[0m\u001b[1;33m)\u001b[0m\u001b[1;33m)\u001b[0m\u001b[1;33m\u001b[0m\u001b[1;33m\u001b[0m\u001b[0m\n\u001b[0m",
      "\u001b[1;31mValueError\u001b[0m: math domain error"
     ]
    }
   ],
   "source": [
    "## you cant  use neg number \n",
    "int(math.sqrt(-9))"
   ]
  },
  {
   "cell_type": "markdown",
   "id": "cd682cbf",
   "metadata": {},
   "source": [
    "## Triggnometric functions"
   ]
  },
  {
   "cell_type": "code",
   "execution_count": 37,
   "id": "4e7d11c7",
   "metadata": {},
   "outputs": [
    {
     "data": {
      "text/plain": [
       "-0.8011526357338304"
      ]
     },
     "execution_count": 37,
     "metadata": {},
     "output_type": "execute_result"
    }
   ],
   "source": [
    "math.sin(180)"
   ]
  },
  {
   "cell_type": "code",
   "execution_count": 39,
   "id": "cda18644",
   "metadata": {},
   "outputs": [
    {
     "data": {
      "text/plain": [
       "-0.4480736161291701"
      ]
     },
     "execution_count": 39,
     "metadata": {},
     "output_type": "execute_result"
    }
   ],
   "source": [
    "math.cos(90)"
   ]
  },
  {
   "cell_type": "code",
   "execution_count": 40,
   "id": "a6922681",
   "metadata": {},
   "outputs": [
    {
     "data": {
      "text/plain": [
       "1.0"
      ]
     },
     "execution_count": 40,
     "metadata": {},
     "output_type": "execute_result"
    }
   ],
   "source": [
    "math.cos(0)"
   ]
  },
  {
   "cell_type": "code",
   "execution_count": 41,
   "id": "f4c82cb7",
   "metadata": {},
   "outputs": [
    {
     "data": {
      "text/plain": [
       "1.6197751905438615"
      ]
     },
     "execution_count": 41,
     "metadata": {},
     "output_type": "execute_result"
    }
   ],
   "source": [
    "math.tan(45)"
   ]
  },
  {
   "cell_type": "code",
   "execution_count": 42,
   "id": "881f2865",
   "metadata": {},
   "outputs": [
    {
     "data": {
      "text/plain": [
       "3.6055512754639896"
      ]
     },
     "execution_count": 42,
     "metadata": {},
     "output_type": "execute_result"
    }
   ],
   "source": [
    "## hypot()\n",
    "\n",
    "math.hypot(2,3)"
   ]
  },
  {
   "cell_type": "code",
   "execution_count": 44,
   "id": "2e903874",
   "metadata": {},
   "outputs": [
    {
     "data": {
      "text/plain": [
       "(0.14158999999999988, 3.0)"
      ]
     },
     "execution_count": 44,
     "metadata": {},
     "output_type": "execute_result"
    }
   ],
   "source": [
    "## it returns first element returns fraction of x and second element returns int value\n",
    "x = 3.14159\n",
    "math.modf(x)"
   ]
  },
  {
   "cell_type": "code",
   "execution_count": 45,
   "id": "eb1f29e3",
   "metadata": {},
   "outputs": [],
   "source": [
    "import sympy"
   ]
  },
  {
   "cell_type": "code",
   "execution_count": 47,
   "id": "48bd5c3c",
   "metadata": {},
   "outputs": [
    {
     "data": {
      "text/plain": [
       "True"
      ]
     },
     "execution_count": 47,
     "metadata": {},
     "output_type": "execute_result"
    }
   ],
   "source": [
    "sympy.isprime(3)"
   ]
  },
  {
   "cell_type": "code",
   "execution_count": 60,
   "id": "2c30c311",
   "metadata": {},
   "outputs": [],
   "source": [
    "lst = [3,5,9,13,6,25]"
   ]
  },
  {
   "cell_type": "code",
   "execution_count": 64,
   "id": "89e2560b",
   "metadata": {},
   "outputs": [
    {
     "name": "stdout",
     "output_type": "stream",
     "text": [
      "Prime numbers:-  3\n",
      "Prime numbers:-  5\n",
      "Prime numbers:-  13\n",
      "Not a prime numbers:-  25\n"
     ]
    }
   ],
   "source": [
    "for i in lst:\n",
    "    if sympy.isprime(i):\n",
    "        print(\"Prime numbers:- \",i)\n",
    "    \n",
    "else:\n",
    "        print(\"Not a prime numbers:- \",i)"
   ]
  },
  {
   "cell_type": "code",
   "execution_count": 61,
   "id": "96188299",
   "metadata": {},
   "outputs": [
    {
     "data": {
      "text/plain": [
       "[3, 5, 9, 13, 6, 25]"
      ]
     },
     "execution_count": 61,
     "metadata": {},
     "output_type": "execute_result"
    }
   ],
   "source": [
    "lst"
   ]
  },
  {
   "cell_type": "code",
   "execution_count": 65,
   "id": "863d1795",
   "metadata": {},
   "outputs": [],
   "source": [
    "lst1 = [1,8,9,7,54,60,-17]"
   ]
  },
  {
   "cell_type": "code",
   "execution_count": null,
   "id": "1fc6bd4e",
   "metadata": {},
   "outputs": [],
   "source": [
    "for i in lst1:\n",
    "    if i>1"
   ]
  },
  {
   "cell_type": "code",
   "execution_count": 67,
   "id": "e0db18a8",
   "metadata": {},
   "outputs": [
    {
     "name": "stdout",
     "output_type": "stream",
     "text": [
      "The maximum number is: 60\n"
     ]
    }
   ],
   "source": [
    "lst1 = [-45,1, 8, 9, 7, 54, 60, -17]\n",
    "\n",
    "max_num = lst1[0]\n",
    "\n",
    "for i in range(1, len(lst1)):\n",
    "    if lst1[i] > max_num:\n",
    "        max_num = lst1[i]\n",
    "\n",
    "print(\"The maximum number is:\", max_num)\n"
   ]
  },
  {
   "cell_type": "code",
   "execution_count": 71,
   "id": "75116424",
   "metadata": {},
   "outputs": [
    {
     "name": "stdout",
     "output_type": "stream",
     "text": [
      "The Maximum Number: 75\n"
     ]
    }
   ],
   "source": [
    "lst2 = [-0,-25,45,-6,75,63,43]\n",
    "\n",
    "max_num = lst2[0]\n",
    "\n",
    "for i in range(1,len(lst2)):\n",
    "    if lst2[i] > max_num:\n",
    "        max_num = lst2[i]\n",
    "        \n",
    "        \n",
    "print(\"The Maximum Number:\", max_num)"
   ]
  },
  {
   "cell_type": "code",
   "execution_count": 72,
   "id": "67a1bc13",
   "metadata": {},
   "outputs": [
    {
     "name": "stdout",
     "output_type": "stream",
     "text": [
      "The Minimum Number: -25\n"
     ]
    }
   ],
   "source": [
    "lst2 = [-0,-25,45,-6,75,63,43]\n",
    "\n",
    "min_num = lst2[0]\n",
    "\n",
    "for i in range(1,len(lst2)):\n",
    "    if lst2[i] < min_num:\n",
    "        min_num = lst2[i]\n",
    "        \n",
    "        \n",
    "print(\"The Minimum Number:\", min_num)"
   ]
  },
  {
   "cell_type": "code",
   "execution_count": 73,
   "id": "0b7d13c3",
   "metadata": {},
   "outputs": [
    {
     "data": {
      "text/plain": [
       "7"
      ]
     },
     "execution_count": 73,
     "metadata": {},
     "output_type": "execute_result"
    }
   ],
   "source": [
    "len(lst2)"
   ]
  },
  {
   "cell_type": "code",
   "execution_count": 76,
   "id": "cc0fdbbd",
   "metadata": {},
   "outputs": [
    {
     "data": {
      "text/plain": [
       "range(1, 7)"
      ]
     },
     "execution_count": 76,
     "metadata": {},
     "output_type": "execute_result"
    }
   ],
   "source": [
    "range(1,len(lst2))"
   ]
  },
  {
   "cell_type": "markdown",
   "id": "2867105f",
   "metadata": {},
   "source": [
    "## Append"
   ]
  },
  {
   "cell_type": "code",
   "execution_count": 77,
   "id": "f0dc1eb1",
   "metadata": {},
   "outputs": [],
   "source": [
    "lst = [1,2,3,4,5]"
   ]
  },
  {
   "cell_type": "code",
   "execution_count": 78,
   "id": "9444a4eb",
   "metadata": {},
   "outputs": [],
   "source": [
    "lst.append(\"Avi\")"
   ]
  },
  {
   "cell_type": "code",
   "execution_count": 79,
   "id": "d382aea9",
   "metadata": {},
   "outputs": [
    {
     "data": {
      "text/plain": [
       "[1, 2, 3, 4, 5, 'Avi']"
      ]
     },
     "execution_count": 79,
     "metadata": {},
     "output_type": "execute_result"
    }
   ],
   "source": [
    "lst"
   ]
  },
  {
   "cell_type": "code",
   "execution_count": 80,
   "id": "945e458d",
   "metadata": {},
   "outputs": [],
   "source": [
    "lst.append([\"Aakash\",\"Dhruv\"])"
   ]
  },
  {
   "cell_type": "code",
   "execution_count": 95,
   "id": "34d345e7",
   "metadata": {},
   "outputs": [
    {
     "data": {
      "text/plain": [
       "[1, 2, 3, 4, 5, 'Avi', ['Aakash', 'Dhruv']]"
      ]
     },
     "execution_count": 95,
     "metadata": {},
     "output_type": "execute_result"
    }
   ],
   "source": [
    "lst"
   ]
  },
  {
   "cell_type": "code",
   "execution_count": 84,
   "id": "747347d0",
   "metadata": {},
   "outputs": [
    {
     "data": {
      "text/plain": [
       "'Aakash'"
      ]
     },
     "execution_count": 84,
     "metadata": {},
     "output_type": "execute_result"
    }
   ],
   "source": [
    "lst[6][0]"
   ]
  },
  {
   "cell_type": "code",
   "execution_count": 94,
   "id": "353d949c",
   "metadata": {},
   "outputs": [
    {
     "data": {
      "text/plain": [
       "[3, 4, 5, 'Avi']"
      ]
     },
     "execution_count": 94,
     "metadata": {},
     "output_type": "execute_result"
    }
   ],
   "source": [
    "lst[2:-1]"
   ]
  },
  {
   "cell_type": "markdown",
   "id": "9ad242dc",
   "metadata": {},
   "source": [
    "## Insert"
   ]
  },
  {
   "cell_type": "code",
   "execution_count": 96,
   "id": "1be4e156",
   "metadata": {},
   "outputs": [],
   "source": [
    "## Insert in a specific order"
   ]
  },
  {
   "cell_type": "code",
   "execution_count": 97,
   "id": "19e18f83",
   "metadata": {},
   "outputs": [],
   "source": [
    "lst2=[1,2,3,4,5]"
   ]
  },
  {
   "cell_type": "code",
   "execution_count": 99,
   "id": "e8fc5d2f",
   "metadata": {},
   "outputs": [],
   "source": [
    "lst2.insert(1,\"Avi\")"
   ]
  },
  {
   "cell_type": "code",
   "execution_count": 100,
   "id": "62472ee3",
   "metadata": {},
   "outputs": [
    {
     "data": {
      "text/plain": [
       "[1, 'Avi', 2, 3, 4, 5]"
      ]
     },
     "execution_count": 100,
     "metadata": {},
     "output_type": "execute_result"
    }
   ],
   "source": [
    "lst2"
   ]
  },
  {
   "cell_type": "markdown",
   "id": "a9bb3f01",
   "metadata": {},
   "source": [
    "## Extend Method"
   ]
  },
  {
   "cell_type": "markdown",
   "id": "8eedf05a",
   "metadata": {},
   "source": [
    "##### Extend Method append elements seprately without nested list"
   ]
  },
  {
   "cell_type": "code",
   "execution_count": 101,
   "id": "a17eaeb4",
   "metadata": {},
   "outputs": [],
   "source": [
    "lst2.extend([8,9])"
   ]
  },
  {
   "cell_type": "code",
   "execution_count": 102,
   "id": "3bd4ebfd",
   "metadata": {},
   "outputs": [
    {
     "data": {
      "text/plain": [
       "[1, 'Avi', 2, 3, 4, 5, 8, 9]"
      ]
     },
     "execution_count": 102,
     "metadata": {},
     "output_type": "execute_result"
    }
   ],
   "source": [
    "lst2"
   ]
  },
  {
   "cell_type": "code",
   "execution_count": 111,
   "id": "1ebeaf5d",
   "metadata": {},
   "outputs": [
    {
     "data": {
      "text/plain": [
       "[1, 'Avi', 2, 3, 4, 5, 8, 9, 1, 'Avi', 2, 3, 4, 5, 8, 9]"
      ]
     },
     "execution_count": 111,
     "metadata": {},
     "output_type": "execute_result"
    }
   ],
   "source": [
    "lst2*2"
   ]
  },
  {
   "cell_type": "markdown",
   "id": "479da01c",
   "metadata": {},
   "source": [
    "## Pop() Method"
   ]
  },
  {
   "cell_type": "code",
   "execution_count": 113,
   "id": "97aec787",
   "metadata": {},
   "outputs": [
    {
     "data": {
      "text/plain": [
       "['Aakash', 'Dhruv']"
      ]
     },
     "execution_count": 113,
     "metadata": {},
     "output_type": "execute_result"
    }
   ],
   "source": [
    "lst.pop()"
   ]
  },
  {
   "cell_type": "code",
   "execution_count": 114,
   "id": "1208a430",
   "metadata": {},
   "outputs": [
    {
     "data": {
      "text/plain": [
       "[1, 2, 3, 4, 5, 'Avi']"
      ]
     },
     "execution_count": 114,
     "metadata": {},
     "output_type": "execute_result"
    }
   ],
   "source": [
    "lst"
   ]
  },
  {
   "cell_type": "code",
   "execution_count": 115,
   "id": "89e45b09",
   "metadata": {},
   "outputs": [
    {
     "data": {
      "text/plain": [
       "'Avi'"
      ]
     },
     "execution_count": 115,
     "metadata": {},
     "output_type": "execute_result"
    }
   ],
   "source": [
    "lst.pop(5)"
   ]
  },
  {
   "cell_type": "markdown",
   "id": "f391107e",
   "metadata": {},
   "source": [
    "## SETS\n",
    "\n",
    "A set is an unordered collection data type that is iterable, mutable and has no duplicate elements.\n",
    "Python set class represents the mathematical notion of a set. This based on a data structure known as a hash table"
   ]
  },
  {
   "cell_type": "code",
   "execution_count": 2,
   "id": "fa7f0bbb",
   "metadata": {
    "scrolled": true
   },
   "outputs": [
    {
     "data": {
      "text/plain": [
       "set"
      ]
     },
     "execution_count": 2,
     "metadata": {},
     "output_type": "execute_result"
    }
   ],
   "source": [
    "type({1,2,3,4,5,\"Avinash\"})"
   ]
  },
  {
   "cell_type": "code",
   "execution_count": 5,
   "id": "27bc357a",
   "metadata": {},
   "outputs": [
    {
     "name": "stdout",
     "output_type": "stream",
     "text": [
      "{1, 2, 3, 4, 5}\n"
     ]
    }
   ],
   "source": [
    "print(set({1,2,3,4,5,5}))"
   ]
  },
  {
   "cell_type": "code",
   "execution_count": 6,
   "id": "6b9d96c5",
   "metadata": {},
   "outputs": [
    {
     "name": "stdout",
     "output_type": "stream",
     "text": [
      "{'Aakash', 'Saurabh', 'Avinash'}\n"
     ]
    }
   ],
   "source": [
    "Set_var = {\"Avinash\",\"Aakash\",\"Avinash\",\"Saurabh\"}\n",
    "print(Set_var)"
   ]
  },
  {
   "cell_type": "code",
   "execution_count": 7,
   "id": "63cd692c",
   "metadata": {},
   "outputs": [
    {
     "name": "stdout",
     "output_type": "stream",
     "text": [
      "Aakash\n",
      "Saurabh\n",
      "Avinash\n"
     ]
    }
   ],
   "source": [
    "for i in Set_var:\n",
    "    print(i)"
   ]
  },
  {
   "cell_type": "code",
   "execution_count": 8,
   "id": "1ab2c804",
   "metadata": {},
   "outputs": [],
   "source": [
    "Set_var.add(\"Krish\")"
   ]
  },
  {
   "cell_type": "code",
   "execution_count": 9,
   "id": "cd9b22cb",
   "metadata": {},
   "outputs": [
    {
     "data": {
      "text/plain": [
       "{'Aakash', 'Avinash', 'Krish', 'Saurabh'}"
      ]
     },
     "execution_count": 9,
     "metadata": {},
     "output_type": "execute_result"
    }
   ],
   "source": [
    "Set_var"
   ]
  },
  {
   "cell_type": "code",
   "execution_count": 14,
   "id": "c2c41b95",
   "metadata": {},
   "outputs": [
    {
     "name": "stdout",
     "output_type": "stream",
     "text": [
      "{1, 2, 3, 4, 5, 76}\n"
     ]
    }
   ],
   "source": [
    "set_1 = set([4,76,2,1,5,3])\n",
    "print(set_1)\n",
    "## Ordered "
   ]
  },
  {
   "cell_type": "code",
   "execution_count": 15,
   "id": "3626b11a",
   "metadata": {},
   "outputs": [],
   "source": [
    "set_1.add(0)"
   ]
  },
  {
   "cell_type": "code",
   "execution_count": 16,
   "id": "8761df2a",
   "metadata": {},
   "outputs": [
    {
     "data": {
      "text/plain": [
       "{0, 1, 2, 3, 4, 5, 76}"
      ]
     },
     "execution_count": 16,
     "metadata": {},
     "output_type": "execute_result"
    }
   ],
   "source": [
    "set_1"
   ]
  },
  {
   "cell_type": "code",
   "execution_count": 30,
   "id": "fdd9d3e2",
   "metadata": {},
   "outputs": [],
   "source": [
    "set1={\"Avengers\",\"IronMan\",\"Hitman\"}\n",
    "set2={\"Avengers\",\"IronMan\",\"Hitman\",\"Hulk2\"}"
   ]
  },
  {
   "cell_type": "code",
   "execution_count": 26,
   "id": "7c62ebee",
   "metadata": {},
   "outputs": [
    {
     "data": {
      "text/plain": [
       "{'Avengers', 'Hitman', 'IronMan'}"
      ]
     },
     "execution_count": 26,
     "metadata": {},
     "output_type": "execute_result"
    }
   ],
   "source": [
    "set2.intersection(set1)"
   ]
  },
  {
   "cell_type": "code",
   "execution_count": 27,
   "id": "8ea4405e",
   "metadata": {},
   "outputs": [
    {
     "data": {
      "text/plain": [
       "{'Avengers', 'Hitman', 'Hulk2', 'IronMan'}"
      ]
     },
     "execution_count": 27,
     "metadata": {},
     "output_type": "execute_result"
    }
   ],
   "source": [
    "set2"
   ]
  },
  {
   "cell_type": "code",
   "execution_count": 28,
   "id": "39054d46",
   "metadata": {},
   "outputs": [],
   "source": [
    "set2.intersection_update(set1)"
   ]
  },
  {
   "cell_type": "code",
   "execution_count": 29,
   "id": "d724a005",
   "metadata": {},
   "outputs": [
    {
     "data": {
      "text/plain": [
       "{'Avengers', 'Hitman', 'IronMan'}"
      ]
     },
     "execution_count": 29,
     "metadata": {},
     "output_type": "execute_result"
    }
   ],
   "source": [
    "set2"
   ]
  },
  {
   "cell_type": "code",
   "execution_count": 31,
   "id": "f17550f7",
   "metadata": {},
   "outputs": [],
   "source": [
    "## Difference\n",
    "set2.difference_update(set1)"
   ]
  },
  {
   "cell_type": "code",
   "execution_count": 32,
   "id": "42b3bfd4",
   "metadata": {},
   "outputs": [
    {
     "name": "stdout",
     "output_type": "stream",
     "text": [
      "{'Hulk2'}\n"
     ]
    }
   ],
   "source": [
    "print(set2)"
   ]
  },
  {
   "cell_type": "code",
   "execution_count": 33,
   "id": "8a4404be",
   "metadata": {},
   "outputs": [],
   "source": [
    "set1={\"Avengers\",\"IronMan\",\"Hitman\"}\n",
    "set2={\"Avengers\",\"IronMan\",\"Hitman\",\"Hulk2\"}"
   ]
  },
  {
   "cell_type": "code",
   "execution_count": 38,
   "id": "53c2c0a3",
   "metadata": {},
   "outputs": [
    {
     "data": {
      "text/plain": [
       "True"
      ]
     },
     "execution_count": 38,
     "metadata": {},
     "output_type": "execute_result"
    }
   ],
   "source": [
    "set2.issuperset(set1)\n",
    "## issuperset check is set1 all elements are available in set2"
   ]
  },
  {
   "cell_type": "code",
   "execution_count": 39,
   "id": "931b6129",
   "metadata": {},
   "outputs": [
    {
     "data": {
      "text/plain": [
       "False"
      ]
     },
     "execution_count": 39,
     "metadata": {},
     "output_type": "execute_result"
    }
   ],
   "source": [
    "set1.issuperset(set2)"
   ]
  },
  {
   "cell_type": "code",
   "execution_count": 42,
   "id": "ff407c7b",
   "metadata": {},
   "outputs": [
    {
     "data": {
      "text/plain": [
       "True"
      ]
     },
     "execution_count": 42,
     "metadata": {},
     "output_type": "execute_result"
    }
   ],
   "source": [
    "set1.issubset(set2)\n",
    "## issubset check is set1 elements are available in set2"
   ]
  },
  {
   "cell_type": "code",
   "execution_count": 43,
   "id": "01756b63",
   "metadata": {},
   "outputs": [
    {
     "data": {
      "text/plain": [
       "False"
      ]
     },
     "execution_count": 43,
     "metadata": {},
     "output_type": "execute_result"
    }
   ],
   "source": [
    "set2.issubset(set1)"
   ]
  },
  {
   "cell_type": "code",
   "execution_count": null,
   "id": "7e083cb7",
   "metadata": {},
   "outputs": [],
   "source": []
  }
 ],
 "metadata": {
  "kernelspec": {
   "display_name": "Python 3 (ipykernel)",
   "language": "python",
   "name": "python3"
  },
  "language_info": {
   "codemirror_mode": {
    "name": "ipython",
    "version": 3
   },
   "file_extension": ".py",
   "mimetype": "text/x-python",
   "name": "python",
   "nbconvert_exporter": "python",
   "pygments_lexer": "ipython3",
   "version": "3.9.13"
  }
 },
 "nbformat": 4,
 "nbformat_minor": 5
}
